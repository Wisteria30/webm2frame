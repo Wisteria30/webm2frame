{
 "cells": [
  {
   "cell_type": "code",
   "execution_count": 54,
   "metadata": {},
   "outputs": [],
   "source": [
    "import csv\n",
    "import os\n",
    "import os.path as op\n",
    "\n",
    "import tqdm\n",
    "from natsort import natsorted\n",
    "from moviepy.editor import VideoFileClip"
   ]
  },
  {
   "cell_type": "code",
   "execution_count": 2,
   "metadata": {},
   "outputs": [],
   "source": [
    "def read_tsv(file_path):\n",
    "    with open(file_path, \"r\", encoding=\"utf-8\") as f:\n",
    "        reader = csv.DictReader(f, delimiter=\"\\t\")\n",
    "        rows = [row for row in reader]\n",
    "    return rows\n",
    "\n",
    "\n",
    "def save_frameN(video_file_path: str, save_dir: str, frame_info: dict, delta: int, N=10) -> None:\n",
    "    with VideoFileClip(video_file_path) as clip:\n",
    "        fps = clip.fps\n",
    "        start_frame = int(frame_info['startframe']) + delta\n",
    "        end_frame = int(frame_info['endframe']) - delta\n",
    "        cum_frame = end_frame - start_frame\n",
    "        if cum_frame >= N:\n",
    "            div_Nplus1 = cum_frame / (N + 1)\n",
    "            frame_N = []\n",
    "            s = delta\n",
    "            for i in range(N):\n",
    "                s += div_Nplus1\n",
    "                frame_N.append(s / fps)\n",
    "        else:\n",
    "            frame_N = [i / fps for i in range(start_frame, end_frame + 1)]\n",
    "        for i, t in enumerate(frame_N):\n",
    "            clip.save_frame(op.join(save_dir, f\"frame{i}.png\"), t=t)"
   ]
  },
  {
   "cell_type": "code",
   "execution_count": null,
   "metadata": {},
   "outputs": [],
   "source": [
    "def main():\n",
    "    video_origin_dir = \"data/V3C2/V3C2.webm.videos.shots\"\n",
    "    msb_dir = \"data/V3C2/msb\"\n",
    "    save_origin_dir = \"data/V3C2/frames\"\n",
    "    delta=3\n",
    "\n",
    "    video_dirs = natsorted(os.listdir(video_origin_dir))\n",
    "    msb_files = natsorted(os.listdir(msb_dir))\n",
    "    for video_dir, msb_file in tqdm(zip(video_dirs, msb_files)):\n",
    "        msb = read_tsv(op.join(msb_dir, msb_file))\n",
    "        video_paths = natsorted(list(filter(lambda x: op.splitext(x)[1] == \".webm\", os.listdir(op.join(video_origin_dir, video_dir)))))\n",
    "        for i, video_path in enumerate(video_paths):\n",
    "            save_dir = op.join(save_origin_dir, video_dir, video_path)\n",
    "            os.makedirs(save_dir, exist_ok=True)\n",
    "            video_file_path = op.join(video_origin_dir, video_dir, video_path)\n",
    "            save_frameN(video_file_path, save_dir, msb[i], delta)"
   ]
  },
  {
   "cell_type": "code",
   "execution_count": 3,
   "metadata": {},
   "outputs": [],
   "source": [
    "msb_file = \"data/msb/07476.tsv\"\n",
    "msb_data = read_tsv(msb_file)"
   ]
  },
  {
   "cell_type": "code",
   "execution_count": 29,
   "metadata": {},
   "outputs": [
    {
     "data": {
      "text/plain": [
       "29.97002997002997"
      ]
     },
     "execution_count": 29,
     "metadata": {},
     "output_type": "execute_result"
    }
   ],
   "source": [
    "video_file_path = \"data/videos/shot07476_1.webm\"\n",
    "clip = VideoFileClip(video_file_path)\n",
    "clip.fps"
   ]
  },
  {
   "cell_type": "code",
   "execution_count": 22,
   "metadata": {},
   "outputs": [],
   "source": [
    "video_file_path = \"data/videos/shot07476_2.webm\"\n",
    "clip = VideoFileClip(video_file_path)\n",
    "clip.save_frame(\"data/frame_test.png\", t=48)"
   ]
  },
  {
   "cell_type": "code",
   "execution_count": 50,
   "metadata": {},
   "outputs": [
    {
     "name": "stdout",
     "output_type": "stream",
     "text": [
      "2.3083666666666667\n",
      "4.516633333333334\n",
      "6.724900000000001\n",
      "8.933166666666667\n",
      "11.141433333333334\n",
      "13.349700000000002\n",
      "15.557966666666669\n",
      "17.766233333333336\n",
      "19.974500000000003\n",
      "22.182766666666673\n"
     ]
    }
   ],
   "source": [
    "frame10 = save_frame10(\"data/videos/shot07476_1.webm\", \"\", msb_data[0], 3)"
   ]
  }
 ],
 "metadata": {
  "kernelspec": {
   "display_name": "Python 3.9.12 64-bit",
   "language": "python",
   "name": "python3"
  },
  "language_info": {
   "codemirror_mode": {
    "name": "ipython",
    "version": 3
   },
   "file_extension": ".py",
   "mimetype": "text/x-python",
   "name": "python",
   "nbconvert_exporter": "python",
   "pygments_lexer": "ipython3",
   "version": "3.9.12"
  },
  "orig_nbformat": 4,
  "vscode": {
   "interpreter": {
    "hash": "949777d72b0d2535278d3dc13498b2535136f6dfe0678499012e853ee9abcab1"
   }
  }
 },
 "nbformat": 4,
 "nbformat_minor": 2
}
