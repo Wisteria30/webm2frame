{
 "cells": [
  {
   "cell_type": "code",
   "execution_count": 1,
   "metadata": {},
   "outputs": [],
   "source": [
    "import csv\n",
    "import os\n",
    "import os.path as op\n",
    "\n",
    "import tqdm\n",
    "from natsort import natsorted\n",
    "from moviepy.editor import VideoFileClip"
   ]
  },
  {
   "cell_type": "code",
   "execution_count": 39,
   "metadata": {},
   "outputs": [],
   "source": [
    "def read_tsv(file_path):\n",
    "    with open(file_path, \"r\", encoding=\"utf-8\") as f:\n",
    "        reader = csv.DictReader(f, delimiter=\"\\t\")\n",
    "        rows = [row for row in reader]\n",
    "    return rows\n",
    "\n",
    "\n",
    "def save_frameN(\n",
    "    video_file_path: str,\n",
    "    save_dir: str,\n",
    "    frame_info: dict,\n",
    "    delta: int,\n",
    "    N=10,\n",
    "    newsize=(640, 360),\n",
    ") -> None:\n",
    "    \"\"\"\n",
    "    s   @1  @2  @3  @4  @5  @6  @7  @8  @9  @10   e\n",
    "    | 1 | 2 | 3 | 4 | 5 | 6 | 7 | 8 | 9 | 10 | 11 |\n",
    "    \"\"\"\n",
    "    with VideoFileClip(video_file_path) as clip:\n",
    "        clip = clip.resize(newsize)\n",
    "        fps = clip.fps\n",
    "        start_frame = int(frame_info[\"startframe\"]) + delta\n",
    "        end_frame = int(frame_info[\"endframe\"]) - delta\n",
    "        cum_frame = end_frame - start_frame\n",
    "        if cum_frame >= N:\n",
    "            div_Nplus1 = cum_frame / (N + 1)\n",
    "            frame_N = []\n",
    "            s = delta\n",
    "            for i in range(N):\n",
    "                s += div_Nplus1\n",
    "                frame_N.append(s / fps)\n",
    "        else:\n",
    "            frame_N = [i / fps for i in range(start_frame, end_frame + 1)]\n",
    "        for i, t in enumerate(frame_N):\n",
    "            clip.save_frame(op.join(save_dir, f\"frame{i}.png\"), t=t)"
   ]
  },
  {
   "cell_type": "code",
   "execution_count": 37,
   "metadata": {},
   "outputs": [
    {
     "name": "stdout",
     "output_type": "stream",
     "text": [
      "29.97002997002997 [1280, 720]\n",
      "29.97002997002997 (640, 360)\n"
     ]
    }
   ],
   "source": [
    "video_file_path = \"data/videos/shot07476_1.webm\"\n",
    "clip = VideoFileClip(video_file_path)\n",
    "print(clip.fps, clip.size)\n",
    "clip.save_frame(\"data/frame0_0.png\", t=0)\n",
    "clip = clip.resize([640, 360])\n",
    "# frame = clip.get_frame(0)\n",
    "print(clip.fps, clip.size)\n",
    "clip.save_frame(\"data/frame0_1.png\", t=0)"
   ]
  },
  {
   "cell_type": "code",
   "execution_count": 33,
   "metadata": {},
   "outputs": [],
   "source": [
    "video_file_path = \"data/videos/shot07476_1.webm\"\n",
    "msb_file = \"data/msb/07476.tsv\"\n",
    "msb_data = read_tsv(msb_file)\n",
    "save_frameN(video_file_path, \"data/frames\", msb_data[0], delta=3)"
   ]
  },
  {
   "cell_type": "code",
   "execution_count": 50,
   "metadata": {},
   "outputs": [
    {
     "name": "stdout",
     "output_type": "stream",
     "text": [
      "2.3083666666666667\n",
      "4.516633333333334\n",
      "6.724900000000001\n",
      "8.933166666666667\n",
      "11.141433333333334\n",
      "13.349700000000002\n",
      "15.557966666666669\n",
      "17.766233333333336\n",
      "19.974500000000003\n",
      "22.182766666666673\n"
     ]
    }
   ],
   "source": [
    "frame10 = save_frame10(\"data/videos/shot07476_1.webm\", \"\", msb_data[0], 3)"
   ]
  }
 ],
 "metadata": {
  "kernelspec": {
   "display_name": "Python 3.9.12 64-bit",
   "language": "python",
   "name": "python3"
  },
  "language_info": {
   "codemirror_mode": {
    "name": "ipython",
    "version": 3
   },
   "file_extension": ".py",
   "mimetype": "text/x-python",
   "name": "python",
   "nbconvert_exporter": "python",
   "pygments_lexer": "ipython3",
   "version": "3.9.12"
  },
  "orig_nbformat": 4,
  "vscode": {
   "interpreter": {
    "hash": "949777d72b0d2535278d3dc13498b2535136f6dfe0678499012e853ee9abcab1"
   }
  }
 },
 "nbformat": 4,
 "nbformat_minor": 2
}
