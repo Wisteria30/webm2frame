{
 "cells": [
  {
   "cell_type": "code",
   "execution_count": 2,
   "metadata": {},
   "outputs": [],
   "source": [
    "import csv\n",
    "import os\n",
    "import os.path as op\n",
    "\n",
    "import tqdm\n",
    "from natsort import natsorted\n",
    "from moviepy.editor import VideoFileClip"
   ]
  },
  {
   "cell_type": "code",
   "execution_count": 14,
   "metadata": {},
   "outputs": [],
   "source": [
    "def read_tsv(file_path):\n",
    "    with open(file_path, \"r\", encoding=\"utf-8\") as f:\n",
    "        reader = csv.DictReader(f, delimiter=\"\\t\")\n",
    "        rows = [row for row in reader]\n",
    "    return rows\n",
    "\n",
    "\n",
    "def save_frameN(\n",
    "    video_file_path: str,\n",
    "    save_dir: str,\n",
    "    frame_info: dict,\n",
    "    delta: int,\n",
    "    N=10,\n",
    "    newsize=(640, 360),\n",
    ") -> None:\n",
    "    \"\"\"\n",
    "    s   @1  @2  @3  @4  @5  @6  @7  @8  @9  @10   e\n",
    "    | 1 | 2 | 3 | 4 | 5 | 6 | 7 | 8 | 9 | 10 | 11 |\n",
    "    \"\"\"\n",
    "    delta = 0 if (int(frame_info[\"endframe\"]) - int(frame_info[\"startframe\"]) - 2 * delta) < N else delta\n",
    "    with VideoFileClip(video_file_path) as clip:\n",
    "        clip = clip.resize(newsize)\n",
    "        start_frame = delta\n",
    "        end_frame = int(frame_info[\"endframe\"]) - int(frame_info[\"startframe\"]) - delta\n",
    "        cum_frame = end_frame - start_frame\n",
    "        if cum_frame >= N:\n",
    "            div_Nplus1 = cum_frame / (N + 1)\n",
    "            frame_N = []\n",
    "            s = delta\n",
    "            for i in range(N):\n",
    "                s += div_Nplus1\n",
    "                frame_N.append(s / clip.fps)\n",
    "        else:\n",
    "            frame_N = [i / clip.fps for i in range(start_frame, end_frame + 1)]\n",
    "        for i, t in enumerate(frame_N):\n",
    "            clip.save_frame(op.join(save_dir, f\"frame{i:04}.png\"), t=t)"
   ]
  },
  {
   "cell_type": "code",
   "execution_count": 4,
   "metadata": {},
   "outputs": [
    {
     "name": "stdout",
     "output_type": "stream",
     "text": [
      "24.0 [1280, 720]\n",
      "24.0 (640, 360)\n"
     ]
    }
   ],
   "source": [
    "video_file_path = \"data/videos/07477/shot07477_12.webm\"\n",
    "clip = VideoFileClip(video_file_path)\n",
    "print(clip.fps, clip.size)\n",
    "clip.save_frame(\"data/frame0_0.png\", t=0)\n",
    "clip = clip.resize([640, 360])\n",
    "# frame = clip.get_frame(0)\n",
    "print(clip.fps, clip.size)\n",
    "clip.save_frame(\"data/frame0_1.png\", t=0)"
   ]
  },
  {
   "cell_type": "code",
   "execution_count": 6,
   "metadata": {},
   "outputs": [
    {
     "name": "stdout",
     "output_type": "stream",
     "text": [
      "Moviepy - Writing frames data/frames/frame%04d.png.\n"
     ]
    },
    {
     "name": "stderr",
     "output_type": "stream",
     "text": [
      "                                                            "
     ]
    },
    {
     "name": "stdout",
     "output_type": "stream",
     "text": [
      "Moviepy - Done writing frames data/frames/frame%04d.png.\n"
     ]
    },
    {
     "name": "stderr",
     "output_type": "stream",
     "text": [
      "\r"
     ]
    },
    {
     "data": {
      "text/plain": [
       "['data/frames/frame0000.png',\n",
       " 'data/frames/frame0001.png',\n",
       " 'data/frames/frame0002.png',\n",
       " 'data/frames/frame0003.png',\n",
       " 'data/frames/frame0004.png',\n",
       " 'data/frames/frame0005.png',\n",
       " 'data/frames/frame0006.png',\n",
       " 'data/frames/frame0007.png',\n",
       " 'data/frames/frame0008.png',\n",
       " 'data/frames/frame0009.png',\n",
       " 'data/frames/frame0010.png',\n",
       " 'data/frames/frame0011.png']"
      ]
     },
     "execution_count": 6,
     "metadata": {},
     "output_type": "execute_result"
    }
   ],
   "source": []
  },
  {
   "cell_type": "code",
   "execution_count": 15,
   "metadata": {},
   "outputs": [
    {
     "name": "stdout",
     "output_type": "stream",
     "text": [
      "> \u001b[0;32m/tmp/ipykernel_23258/1977599725.py\u001b[0m(36)\u001b[0;36msave_frameN\u001b[0;34m()\u001b[0m\n",
      "\u001b[0;32m     33 \u001b[0;31m        \u001b[0;32melse\u001b[0m\u001b[0;34m:\u001b[0m\u001b[0;34m\u001b[0m\u001b[0;34m\u001b[0m\u001b[0m\n",
      "\u001b[0m\u001b[0;32m     34 \u001b[0;31m            \u001b[0mframe_N\u001b[0m \u001b[0;34m=\u001b[0m \u001b[0;34m[\u001b[0m\u001b[0mi\u001b[0m \u001b[0;34m/\u001b[0m \u001b[0mclip\u001b[0m\u001b[0;34m.\u001b[0m\u001b[0mfps\u001b[0m \u001b[0;32mfor\u001b[0m \u001b[0mi\u001b[0m \u001b[0;32min\u001b[0m \u001b[0mrange\u001b[0m\u001b[0;34m(\u001b[0m\u001b[0mstart_frame\u001b[0m\u001b[0;34m,\u001b[0m \u001b[0mend_frame\u001b[0m \u001b[0;34m+\u001b[0m \u001b[0;36m1\u001b[0m\u001b[0;34m)\u001b[0m\u001b[0;34m]\u001b[0m\u001b[0;34m\u001b[0m\u001b[0;34m\u001b[0m\u001b[0m\n",
      "\u001b[0m\u001b[0;32m     35 \u001b[0;31m        \u001b[0;32mfrom\u001b[0m \u001b[0mIPython\u001b[0m\u001b[0;34m.\u001b[0m\u001b[0mcore\u001b[0m\u001b[0;34m.\u001b[0m\u001b[0mdebugger\u001b[0m \u001b[0;32mimport\u001b[0m \u001b[0mPdb\u001b[0m\u001b[0;34m;\u001b[0m \u001b[0mPdb\u001b[0m\u001b[0;34m(\u001b[0m\u001b[0;34m)\u001b[0m\u001b[0;34m.\u001b[0m\u001b[0mset_trace\u001b[0m\u001b[0;34m(\u001b[0m\u001b[0;34m)\u001b[0m\u001b[0;34m\u001b[0m\u001b[0;34m\u001b[0m\u001b[0m\n",
      "\u001b[0m\u001b[0;32m---> 36 \u001b[0;31m        \u001b[0;32mfor\u001b[0m \u001b[0mi\u001b[0m\u001b[0;34m,\u001b[0m \u001b[0mt\u001b[0m \u001b[0;32min\u001b[0m \u001b[0menumerate\u001b[0m\u001b[0;34m(\u001b[0m\u001b[0mframe_N\u001b[0m\u001b[0;34m)\u001b[0m\u001b[0;34m:\u001b[0m\u001b[0;34m\u001b[0m\u001b[0;34m\u001b[0m\u001b[0m\n",
      "\u001b[0m\u001b[0;32m     37 \u001b[0;31m            \u001b[0mclip\u001b[0m\u001b[0;34m.\u001b[0m\u001b[0msave_frame\u001b[0m\u001b[0;34m(\u001b[0m\u001b[0mop\u001b[0m\u001b[0;34m.\u001b[0m\u001b[0mjoin\u001b[0m\u001b[0;34m(\u001b[0m\u001b[0msave_dir\u001b[0m\u001b[0;34m,\u001b[0m \u001b[0;34mf\"frame{i:04}.png\"\u001b[0m\u001b[0;34m)\u001b[0m\u001b[0;34m,\u001b[0m \u001b[0mt\u001b[0m\u001b[0;34m=\u001b[0m\u001b[0mt\u001b[0m\u001b[0;34m)\u001b[0m\u001b[0;34m\u001b[0m\u001b[0;34m\u001b[0m\u001b[0m\n",
      "\u001b[0m\n",
      "2\n",
      "2\n",
      "0\n",
      "2\n",
      "[0.0, 0.041666666666666664, 0.08333333333333333]\n"
     ]
    }
   ],
   "source": [
    "video_file_path = \"data/videos/07477/shot07477_12.webm\"\n",
    "msb_file = \"data/msb/07477.tsv\"\n",
    "msb_data = read_tsv(msb_file)\n",
    "save_frameN(video_file_path, \"data/frames\", msb_data[12], delta=3)"
   ]
  },
  {
   "cell_type": "code",
   "execution_count": 50,
   "metadata": {},
   "outputs": [
    {
     "name": "stdout",
     "output_type": "stream",
     "text": [
      "2.3083666666666667\n",
      "4.516633333333334\n",
      "6.724900000000001\n",
      "8.933166666666667\n",
      "11.141433333333334\n",
      "13.349700000000002\n",
      "15.557966666666669\n",
      "17.766233333333336\n",
      "19.974500000000003\n",
      "22.182766666666673\n"
     ]
    }
   ],
   "source": [
    "frame10 = save_frame10(\"data/videos/shot07476_1.webm\", \"\", msb_data[0], 3)"
   ]
  }
 ],
 "metadata": {
  "kernelspec": {
   "display_name": "Python 3.9.12 64-bit",
   "language": "python",
   "name": "python3"
  },
  "language_info": {
   "codemirror_mode": {
    "name": "ipython",
    "version": 3
   },
   "file_extension": ".py",
   "mimetype": "text/x-python",
   "name": "python",
   "nbconvert_exporter": "python",
   "pygments_lexer": "ipython3",
   "version": "3.9.12"
  },
  "orig_nbformat": 4,
  "vscode": {
   "interpreter": {
    "hash": "949777d72b0d2535278d3dc13498b2535136f6dfe0678499012e853ee9abcab1"
   }
  }
 },
 "nbformat": 4,
 "nbformat_minor": 2
}
